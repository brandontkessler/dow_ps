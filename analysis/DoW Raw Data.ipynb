{
 "cells": [
  {
   "cell_type": "markdown",
   "metadata": {},
   "source": [
    "# DoW Raw Data\n",
    "\n",
    "The purpose of this is to extract day by day information for Frank. Typically just looking at last year. \n",
    "\n",
    "Goal: Prove that Friday performs worse than other nights in terms of ticketing."
   ]
  },
  {
   "cell_type": "code",
   "execution_count": 4,
   "metadata": {},
   "outputs": [
    {
     "name": "stdout",
     "output_type": "stream",
     "text": [
      "Once deleted, variables cannot be recovered. Proceed (y/[n])? y\n"
     ]
    }
   ],
   "source": [
    "%reset"
   ]
  },
  {
   "cell_type": "markdown",
   "metadata": {},
   "source": [
    "## Imports"
   ]
  },
  {
   "cell_type": "code",
   "execution_count": 5,
   "metadata": {},
   "outputs": [],
   "source": [
    "import os\n",
    "import math\n",
    "import pandas as pd\n",
    "import numpy as np\n",
    "import matplotlib.pyplot as plt\n",
    "import seaborn as sns\n",
    "import datetime as dt\n",
    "\n",
    "%matplotlib inline"
   ]
  },
  {
   "cell_type": "code",
   "execution_count": 7,
   "metadata": {},
   "outputs": [],
   "source": [
    "os.chdir('/projects/dow/')"
   ]
  },
  {
   "cell_type": "markdown",
   "metadata": {},
   "source": [
    "## Inputs"
   ]
  },
  {
   "cell_type": "code",
   "execution_count": null,
   "metadata": {},
   "outputs": [],
   "source": []
  },
  {
   "cell_type": "markdown",
   "metadata": {},
   "source": [
    "## Data Import"
   ]
  },
  {
   "cell_type": "markdown",
   "metadata": {},
   "source": [
    "Function to import ticketing data"
   ]
  },
  {
   "cell_type": "code",
   "execution_count": 11,
   "metadata": {},
   "outputs": [],
   "source": [
    "def ticket_data_import(series, fy_start=10, fy_end=19, path='data/'):\n",
    "    \"\"\"\n",
    "    This function retrieves all of the subscription files across a\\\n",
    " user determined date range and series. \n",
    "    \n",
    "    Keyword arguments:\n",
    "    series -- either 'clx' or 'pops'\n",
    "    fy_start -- earliest fiscal year in question (default 10)\n",
    "    fy_end -- last fiscal year in question (default 19)\n",
    "    path -- path to data (default 'data/')\n",
    "    \n",
    "    Returns:\n",
    "    df -- pandas dataframe consisting of ticketing data with a fiscal year added to end\n",
    "    \"\"\"\n",
    "    \n",
    "    accepted_series = ['clx', 'pops']\n",
    "    \n",
    "    if series.lower() not in accepted_series:\n",
    "        raise ValueError('series must be of accepted series types: ', \n",
    "                         accepted_series)\n",
    "    \n",
    "    dataframes = []\n",
    "    for i in range(fy_start, fy_end+1):\n",
    "        file = f\"{series.capitalize()}{i}.csv\"\n",
    "        tmp = pd.read_csv(path + file, skiprows=3)\n",
    "        tmp['fy'] = i\n",
    "        dataframes.append(tmp)\n",
    "\n",
    "    df = pd.concat(dataframes, ignore_index=True)\n",
    "    \n",
    "    return df"
   ]
  },
  {
   "cell_type": "markdown",
   "metadata": {},
   "source": [
    "Function to convert dates to datetime"
   ]
  },
  {
   "cell_type": "code",
   "execution_count": 17,
   "metadata": {},
   "outputs": [],
   "source": [
    "def date_conv(s):\n",
    "    dates = {date:pd.to_datetime(date) for date in s.unique()}\n",
    "    return s.map(dates)"
   ]
  },
  {
   "cell_type": "markdown",
   "metadata": {},
   "source": [
    "Import data"
   ]
  },
  {
   "cell_type": "code",
   "execution_count": 14,
   "metadata": {},
   "outputs": [],
   "source": [
    "df = ticket_data_import('clx', 17, 19)"
   ]
  },
  {
   "cell_type": "markdown",
   "metadata": {},
   "source": [
    "Convert perf date to datetime date"
   ]
  },
  {
   "cell_type": "code",
   "execution_count": 21,
   "metadata": {
    "scrolled": true
   },
   "outputs": [],
   "source": [
    "df['perf_dt'] = date_conv(df['perf_dt'])"
   ]
  },
  {
   "cell_type": "markdown",
   "metadata": {},
   "source": [
    "Add a column for day of week"
   ]
  },
  {
   "cell_type": "code",
   "execution_count": 33,
   "metadata": {},
   "outputs": [],
   "source": [
    "df['dow'] = df['perf_dt'].apply(lambda date: date.strftime('%A'))"
   ]
  },
  {
   "cell_type": "code",
   "execution_count": 34,
   "metadata": {},
   "outputs": [
    {
     "data": {
      "text/html": [
       "<div>\n",
       "<style scoped>\n",
       "    .dataframe tbody tr th:only-of-type {\n",
       "        vertical-align: middle;\n",
       "    }\n",
       "\n",
       "    .dataframe tbody tr th {\n",
       "        vertical-align: top;\n",
       "    }\n",
       "\n",
       "    .dataframe thead th {\n",
       "        text-align: right;\n",
       "    }\n",
       "</style>\n",
       "<table border=\"1\" class=\"dataframe\">\n",
       "  <thead>\n",
       "    <tr style=\"text-align: right;\">\n",
       "      <th></th>\n",
       "      <th>perf_code</th>\n",
       "      <th>perf_no</th>\n",
       "      <th>perf_dt</th>\n",
       "      <th>zone_no</th>\n",
       "      <th>zone_desc</th>\n",
       "      <th>section</th>\n",
       "      <th>row</th>\n",
       "      <th>seat</th>\n",
       "      <th>home_price</th>\n",
       "      <th>paid_amt</th>\n",
       "      <th>...</th>\n",
       "      <th>price_type_group_id</th>\n",
       "      <th>price_type_group</th>\n",
       "      <th>pd_up</th>\n",
       "      <th>season</th>\n",
       "      <th>season_desc</th>\n",
       "      <th>summary_cust_id</th>\n",
       "      <th>summary_cust_name</th>\n",
       "      <th>attended</th>\n",
       "      <th>fy</th>\n",
       "      <th>dow</th>\n",
       "    </tr>\n",
       "  </thead>\n",
       "  <tbody>\n",
       "    <tr>\n",
       "      <th>0</th>\n",
       "      <td>PS092216</td>\n",
       "      <td>13971</td>\n",
       "      <td>2016-09-22 20:00:00</td>\n",
       "      <td>4172</td>\n",
       "      <td>Price 2 Orchestra Terr Left</td>\n",
       "      <td>ORCH T</td>\n",
       "      <td>Z</td>\n",
       "      <td>5</td>\n",
       "      <td>85.0</td>\n",
       "      <td>NaN</td>\n",
       "      <td>...</td>\n",
       "      <td>NaN</td>\n",
       "      <td>NaN</td>\n",
       "      <td>AVL</td>\n",
       "      <td>487</td>\n",
       "      <td>PS 16-17 Classics</td>\n",
       "      <td>NaN</td>\n",
       "      <td>NaN</td>\n",
       "      <td>NaN</td>\n",
       "      <td>17</td>\n",
       "      <td>Thursday</td>\n",
       "    </tr>\n",
       "    <tr>\n",
       "      <th>1</th>\n",
       "      <td>PS092216</td>\n",
       "      <td>13971</td>\n",
       "      <td>2016-09-22 20:00:00</td>\n",
       "      <td>4194</td>\n",
       "      <td>Price 5 Orchestra Terr Right</td>\n",
       "      <td>ORCH T</td>\n",
       "      <td>X</td>\n",
       "      <td>6</td>\n",
       "      <td>25.0</td>\n",
       "      <td>NaN</td>\n",
       "      <td>...</td>\n",
       "      <td>NaN</td>\n",
       "      <td>NaN</td>\n",
       "      <td>AVL</td>\n",
       "      <td>487</td>\n",
       "      <td>PS 16-17 Classics</td>\n",
       "      <td>NaN</td>\n",
       "      <td>NaN</td>\n",
       "      <td>NaN</td>\n",
       "      <td>17</td>\n",
       "      <td>Thursday</td>\n",
       "    </tr>\n",
       "    <tr>\n",
       "      <th>2</th>\n",
       "      <td>PS092216</td>\n",
       "      <td>13971</td>\n",
       "      <td>2016-09-22 20:00:00</td>\n",
       "      <td>4158</td>\n",
       "      <td>Price 1 Orchestra</td>\n",
       "      <td>ORCH</td>\n",
       "      <td>K</td>\n",
       "      <td>104</td>\n",
       "      <td>115.0</td>\n",
       "      <td>NaN</td>\n",
       "      <td>...</td>\n",
       "      <td>NaN</td>\n",
       "      <td>NaN</td>\n",
       "      <td>AVL</td>\n",
       "      <td>487</td>\n",
       "      <td>PS 16-17 Classics</td>\n",
       "      <td>NaN</td>\n",
       "      <td>NaN</td>\n",
       "      <td>NaN</td>\n",
       "      <td>17</td>\n",
       "      <td>Thursday</td>\n",
       "    </tr>\n",
       "    <tr>\n",
       "      <th>3</th>\n",
       "      <td>PS092216</td>\n",
       "      <td>13971</td>\n",
       "      <td>2016-09-22 20:00:00</td>\n",
       "      <td>4169</td>\n",
       "      <td>Price 4 Accessible Orchestra</td>\n",
       "      <td>ORCH</td>\n",
       "      <td>B</td>\n",
       "      <td>103</td>\n",
       "      <td>40.0</td>\n",
       "      <td>NaN</td>\n",
       "      <td>...</td>\n",
       "      <td>NaN</td>\n",
       "      <td>NaN</td>\n",
       "      <td>AVL</td>\n",
       "      <td>487</td>\n",
       "      <td>PS 16-17 Classics</td>\n",
       "      <td>NaN</td>\n",
       "      <td>NaN</td>\n",
       "      <td>NaN</td>\n",
       "      <td>17</td>\n",
       "      <td>Thursday</td>\n",
       "    </tr>\n",
       "    <tr>\n",
       "      <th>4</th>\n",
       "      <td>PS092216</td>\n",
       "      <td>13971</td>\n",
       "      <td>2016-09-22 20:00:00</td>\n",
       "      <td>4197</td>\n",
       "      <td>Price 4 Promenade Circle</td>\n",
       "      <td>PROM</td>\n",
       "      <td>D</td>\n",
       "      <td>429</td>\n",
       "      <td>40.0</td>\n",
       "      <td>NaN</td>\n",
       "      <td>...</td>\n",
       "      <td>NaN</td>\n",
       "      <td>NaN</td>\n",
       "      <td>AVL</td>\n",
       "      <td>487</td>\n",
       "      <td>PS 16-17 Classics</td>\n",
       "      <td>NaN</td>\n",
       "      <td>NaN</td>\n",
       "      <td>NaN</td>\n",
       "      <td>17</td>\n",
       "      <td>Thursday</td>\n",
       "    </tr>\n",
       "  </tbody>\n",
       "</table>\n",
       "<p>5 rows × 26 columns</p>\n",
       "</div>"
      ],
      "text/plain": [
       "  perf_code  perf_no             perf_dt  zone_no  \\\n",
       "0  PS092216    13971 2016-09-22 20:00:00     4172   \n",
       "1  PS092216    13971 2016-09-22 20:00:00     4194   \n",
       "2  PS092216    13971 2016-09-22 20:00:00     4158   \n",
       "3  PS092216    13971 2016-09-22 20:00:00     4169   \n",
       "4  PS092216    13971 2016-09-22 20:00:00     4197   \n",
       "\n",
       "                      zone_desc section row  seat  home_price  paid_amt  ...  \\\n",
       "0   Price 2 Orchestra Terr Left  ORCH T   Z     5        85.0       NaN  ...   \n",
       "1  Price 5 Orchestra Terr Right  ORCH T   X     6        25.0       NaN  ...   \n",
       "2             Price 1 Orchestra    ORCH   K   104       115.0       NaN  ...   \n",
       "3  Price 4 Accessible Orchestra    ORCH   B   103        40.0       NaN  ...   \n",
       "4      Price 4 Promenade Circle    PROM   D   429        40.0       NaN  ...   \n",
       "\n",
       "   price_type_group_id  price_type_group pd_up  season        season_desc  \\\n",
       "0                  NaN               NaN   AVL     487  PS 16-17 Classics   \n",
       "1                  NaN               NaN   AVL     487  PS 16-17 Classics   \n",
       "2                  NaN               NaN   AVL     487  PS 16-17 Classics   \n",
       "3                  NaN               NaN   AVL     487  PS 16-17 Classics   \n",
       "4                  NaN               NaN   AVL     487  PS 16-17 Classics   \n",
       "\n",
       "  summary_cust_id  summary_cust_name attended  fy       dow  \n",
       "0             NaN                NaN      NaN  17  Thursday  \n",
       "1             NaN                NaN      NaN  17  Thursday  \n",
       "2             NaN                NaN      NaN  17  Thursday  \n",
       "3             NaN                NaN      NaN  17  Thursday  \n",
       "4             NaN                NaN      NaN  17  Thursday  \n",
       "\n",
       "[5 rows x 26 columns]"
      ]
     },
     "execution_count": 34,
     "metadata": {},
     "output_type": "execute_result"
    }
   ],
   "source": [
    "df.head()"
   ]
  },
  {
   "cell_type": "markdown",
   "metadata": {},
   "source": [
    "## Group by Date"
   ]
  },
  {
   "cell_type": "code",
   "execution_count": 40,
   "metadata": {},
   "outputs": [],
   "source": [
    "dow_df = df.groupby(['fy', 'dow', 'perf_dt']).agg({\n",
    "    'summary_cust_id': ['count'],\n",
    "    'paid_amt': ['sum'],\n",
    "    'attended': ['count']\n",
    "}).reset_index()"
   ]
  },
  {
   "cell_type": "markdown",
   "metadata": {},
   "source": [
    "## Write Data to Excel"
   ]
  },
  {
   "cell_type": "code",
   "execution_count": 42,
   "metadata": {},
   "outputs": [],
   "source": [
    "with pd.ExcelWriter('dow_raw.xlsx') as writer:\n",
    "    pd.DataFrame(dow_df).to_excel(writer,\n",
    "                                  engine='xlsxwriter', \n",
    "                                  index=True)"
   ]
  },
  {
   "cell_type": "code",
   "execution_count": null,
   "metadata": {},
   "outputs": [],
   "source": []
  }
 ],
 "metadata": {
  "kernelspec": {
   "display_name": "Python 3",
   "language": "python",
   "name": "python3"
  },
  "language_info": {
   "codemirror_mode": {
    "name": "ipython",
    "version": 3
   },
   "file_extension": ".py",
   "mimetype": "text/x-python",
   "name": "python",
   "nbconvert_exporter": "python",
   "pygments_lexer": "ipython3",
   "version": "3.7.3"
  }
 },
 "nbformat": 4,
 "nbformat_minor": 2
}
